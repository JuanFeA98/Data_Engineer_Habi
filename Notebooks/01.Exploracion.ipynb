{
 "cells": [
  {
   "cell_type": "markdown",
   "metadata": {},
   "source": [
    "## **Librerías**"
   ]
  },
  {
   "cell_type": "code",
   "execution_count": 1,
   "metadata": {},
   "outputs": [],
   "source": [
    "import pandas as pd\n",
    "import numpy as np\n",
    "import matplotlib.pyplot as plt\n",
    "import seaborn as sns"
   ]
  },
  {
   "cell_type": "code",
   "execution_count": 2,
   "metadata": {},
   "outputs": [],
   "source": [
    "pd.options.display.max_columns = False"
   ]
  },
  {
   "cell_type": "code",
   "execution_count": 3,
   "metadata": {},
   "outputs": [],
   "source": [
    "from datetime import datetime, timedelta\n",
    "import winsound as cst"
   ]
  },
  {
   "cell_type": "code",
   "execution_count": 4,
   "metadata": {},
   "outputs": [],
   "source": [
    "import sys\n",
    "sys.path.append('./')\n",
    "sys.path.append('../')"
   ]
  },
  {
   "cell_type": "code",
   "execution_count": null,
   "metadata": {},
   "outputs": [],
   "source": [
    "import xml.etree.ElementTree as ET\n",
    "import hashlib"
   ]
  },
  {
   "cell_type": "code",
   "execution_count": 97,
   "metadata": {},
   "outputs": [],
   "source": [
    "import warnings\n",
    "warnings.filterwarnings('ignore')"
   ]
  },
  {
   "cell_type": "markdown",
   "metadata": {},
   "source": [
    "## **Variables Globales**"
   ]
  },
  {
   "cell_type": "code",
   "execution_count": 5,
   "metadata": {},
   "outputs": [],
   "source": [
    "dia = int(str(datetime.now()).replace('-', '')[:8])\n",
    "mes = int(str(datetime.now()).replace('-', '')[:6])"
   ]
  },
  {
   "cell_type": "markdown",
   "metadata": {},
   "source": [
    "## **Datos**"
   ]
  },
  {
   "cell_type": "code",
   "execution_count": 7,
   "metadata": {},
   "outputs": [],
   "source": [
    "path = '../Data/Raw/feed.xml'"
   ]
  },
  {
   "cell_type": "code",
   "execution_count": 8,
   "metadata": {},
   "outputs": [],
   "source": [
    "# Cargar el archivo XML\n",
    "tree = ET.parse(path)\n",
    "root = tree.getroot()"
   ]
  },
  {
   "cell_type": "code",
   "execution_count": 11,
   "metadata": {},
   "outputs": [],
   "source": [
    "data = []\n",
    "\n",
    "for listing in root.findall(\"listing\"):\n",
    "    data.append({\n",
    "        \"state\": listing.find(\"state\").text,\n",
    "        \"city\": listing.find(\"city\").text,\n",
    "        \"colony\": listing.find(\"colony\").text,\n",
    "        \"street\": listing.find(\"street\").text,\n",
    "        \"external_num\": listing.find(\"external_num\").text,\n",
    "        \"code\": listing.find(\"code\").text,\n",
    "        \"type\": listing.find(\"type\").text,\n",
    "        \"purpose\": listing.find(\"purpose\").text,\n",
    "        \"price\": float(listing.find(\"price\").text),  # Convertir a número\n",
    "        \"mail_contact\": listing.find(\"mail_contact\").text,\n",
    "        \"phone_contact\": listing.find(\"phone_contact\").text\n",
    "    })"
   ]
  },
  {
   "cell_type": "code",
   "execution_count": 12,
   "metadata": {},
   "outputs": [],
   "source": [
    "df_raw = pd.DataFrame(data)"
   ]
  },
  {
   "cell_type": "code",
   "execution_count": 128,
   "metadata": {},
   "outputs": [],
   "source": [
    "df_raw.to_csv('../Data/Processed/Habi_BBDD.csv', index=False, encoding='utf-8', sep='|')"
   ]
  },
  {
   "cell_type": "markdown",
   "metadata": {},
   "source": [
    "## **Funciones**"
   ]
  },
  {
   "cell_type": "code",
   "execution_count": 65,
   "metadata": {},
   "outputs": [],
   "source": [
    "def generate_numeric_id(df: pd.DataFrame, dimensions: list, id_column: str = \"unique_id\") -> pd.DataFrame:\n",
    "    \"\"\"\n",
    "    Genera un ID único numérico basado en n dimensiones de un DataFrame.\n",
    "\n",
    "    :param df: DataFrame de Pandas con los datos.\n",
    "    :param dimensions: Lista de nombres de columnas que se usarán para generar el ID.\n",
    "    :param id_column: Nombre de la nueva columna donde se guardará el ID único.\n",
    "    :return: DataFrame con la columna de ID único agregada.\n",
    "    \"\"\"\n",
    "    if not all(dim in df.columns for dim in dimensions):\n",
    "        raise ValueError(\"Algunas dimensiones no existen en el DataFrame\")\n",
    "\n",
    "    def hash_function(row):\n",
    "        combined = \"_\".join(str(row[dim]) for dim in dimensions)  # Concatenar valores\n",
    "        hash_hex = hashlib.sha256(combined.encode()).hexdigest()  # Generar hash\n",
    "        return int(hash_hex[:10], 16) % 10**10  # Convertir a número y limitar a 10 dígitos\n",
    "    \n",
    "    df[id_column] = df.apply(hash_function, axis=1)\n",
    "    return df"
   ]
  },
  {
   "cell_type": "markdown",
   "metadata": {},
   "source": [
    "## **Limpieza**"
   ]
  },
  {
   "cell_type": "code",
   "execution_count": 77,
   "metadata": {},
   "outputs": [],
   "source": [
    "df_raw.columns = [i.upper() for i in df_raw.columns]"
   ]
  },
  {
   "cell_type": "code",
   "execution_count": 78,
   "metadata": {},
   "outputs": [],
   "source": [
    "df_raw = generate_numeric_id(\n",
    "    df_raw, \n",
    "    ['STATE', 'CITY', 'COLONY', 'STREET', 'CODE', 'PRICE', 'PHONE_CONTACT'], \n",
    "    'PROPERTIE_ID'\n",
    ")"
   ]
  },
  {
   "cell_type": "markdown",
   "metadata": {},
   "source": [
    "### **Users dataframe**"
   ]
  },
  {
   "cell_type": "code",
   "execution_count": 81,
   "metadata": {},
   "outputs": [],
   "source": [
    "df_users = df_raw[['CODE', 'MAIL_CONTACT', 'PHONE_CONTACT']]"
   ]
  },
  {
   "cell_type": "code",
   "execution_count": 82,
   "metadata": {},
   "outputs": [
    {
     "name": "stderr",
     "output_type": "stream",
     "text": [
      "C:\\Users\\jmart\\AppData\\Local\\Temp\\ipykernel_14168\\86247105.py:1: SettingWithCopyWarning: \n",
      "A value is trying to be set on a copy of a slice from a DataFrame\n",
      "\n",
      "See the caveats in the documentation: https://pandas.pydata.org/pandas-docs/stable/user_guide/indexing.html#returning-a-view-versus-a-copy\n",
      "  df_users.rename(columns= {\n"
     ]
    }
   ],
   "source": [
    "df_users.rename(columns= {\n",
    "    'CODE': 'USER_ID',\n",
    "    'MAIL_CONTACT': 'USER_MAIL',\n",
    "    'PHONE_CONTACT': 'USER_PHONE',\n",
    "}, inplace=True)"
   ]
  },
  {
   "cell_type": "code",
   "execution_count": 92,
   "metadata": {},
   "outputs": [
    {
     "data": {
      "text/html": [
       "<div>\n",
       "<style scoped>\n",
       "    .dataframe tbody tr th:only-of-type {\n",
       "        vertical-align: middle;\n",
       "    }\n",
       "\n",
       "    .dataframe tbody tr th {\n",
       "        vertical-align: top;\n",
       "    }\n",
       "\n",
       "    .dataframe thead th {\n",
       "        text-align: right;\n",
       "    }\n",
       "</style>\n",
       "<table border=\"1\" class=\"dataframe\">\n",
       "  <thead>\n",
       "    <tr style=\"text-align: right;\">\n",
       "      <th></th>\n",
       "      <th>USER_ID</th>\n",
       "      <th>USER_MAIL</th>\n",
       "      <th>USER_PHONE</th>\n",
       "    </tr>\n",
       "  </thead>\n",
       "  <tbody>\n",
       "    <tr>\n",
       "      <th>22541</th>\n",
       "      <td>49323</td>\n",
       "      <td>user-4932@mail.com</td>\n",
       "      <td>51243480</td>\n",
       "    </tr>\n",
       "  </tbody>\n",
       "</table>\n",
       "</div>"
      ],
      "text/plain": [
       "      USER_ID           USER_MAIL USER_PHONE\n",
       "22541   49323  user-4932@mail.com   51243480"
      ]
     },
     "execution_count": 92,
     "metadata": {},
     "output_type": "execute_result"
    }
   ],
   "source": [
    "df_users.sample()"
   ]
  },
  {
   "cell_type": "code",
   "execution_count": 98,
   "metadata": {},
   "outputs": [],
   "source": [
    "df_users['USER_ID'] = df_users['USER_ID'].apply(lambda x: int(x))\n",
    "df_users['USER_PHONE'] = df_users['USER_PHONE'].apply(lambda x: int(x))"
   ]
  },
  {
   "cell_type": "code",
   "execution_count": 99,
   "metadata": {},
   "outputs": [
    {
     "name": "stdout",
     "output_type": "stream",
     "text": [
      "<class 'pandas.core.frame.DataFrame'>\n",
      "RangeIndex: 30000 entries, 0 to 29999\n",
      "Data columns (total 3 columns):\n",
      " #   Column      Non-Null Count  Dtype \n",
      "---  ------      --------------  ----- \n",
      " 0   USER_ID     30000 non-null  int64 \n",
      " 1   USER_MAIL   30000 non-null  object\n",
      " 2   USER_PHONE  30000 non-null  int64 \n",
      "dtypes: int64(2), object(1)\n",
      "memory usage: 703.3+ KB\n"
     ]
    }
   ],
   "source": [
    "df_users.info()"
   ]
  },
  {
   "cell_type": "markdown",
   "metadata": {},
   "source": [
    "### **Properties dataframe**"
   ]
  },
  {
   "cell_type": "code",
   "execution_count": 115,
   "metadata": {},
   "outputs": [],
   "source": [
    "df_properties = df_raw[[\n",
    "    'PROPERTIE_ID', 'STATE', 'CITY', 'COLONY', 'STREET', 'EXTERNAL_NUM', 'CODE', 'TYPE', 'PURPOSE', 'PRICE'\n",
    "]]"
   ]
  },
  {
   "cell_type": "code",
   "execution_count": 116,
   "metadata": {},
   "outputs": [],
   "source": [
    "df_properties.rename(columns= {\n",
    "    'CODE': 'USER_ID'\n",
    "}, inplace=True)"
   ]
  },
  {
   "cell_type": "code",
   "execution_count": 117,
   "metadata": {},
   "outputs": [
    {
     "data": {
      "text/html": [
       "<div>\n",
       "<style scoped>\n",
       "    .dataframe tbody tr th:only-of-type {\n",
       "        vertical-align: middle;\n",
       "    }\n",
       "\n",
       "    .dataframe tbody tr th {\n",
       "        vertical-align: top;\n",
       "    }\n",
       "\n",
       "    .dataframe thead th {\n",
       "        text-align: right;\n",
       "    }\n",
       "</style>\n",
       "<table border=\"1\" class=\"dataframe\">\n",
       "  <thead>\n",
       "    <tr style=\"text-align: right;\">\n",
       "      <th></th>\n",
       "      <th>PROPERTIE_ID</th>\n",
       "      <th>STATE</th>\n",
       "      <th>CITY</th>\n",
       "      <th>COLONY</th>\n",
       "      <th>STREET</th>\n",
       "      <th>EXTERNAL_NUM</th>\n",
       "      <th>USER_ID</th>\n",
       "      <th>TYPE</th>\n",
       "      <th>PURPOSE</th>\n",
       "      <th>PRICE</th>\n",
       "    </tr>\n",
       "  </thead>\n",
       "  <tbody>\n",
       "    <tr>\n",
       "      <th>7072</th>\n",
       "      <td>9960694218</td>\n",
       "      <td>DF / CDMX</td>\n",
       "      <td>Miguel Hidalgo</td>\n",
       "      <td>Veronica Anzures</td>\n",
       "      <td>av ejercito nacional mexicano</td>\n",
       "      <td>None</td>\n",
       "      <td>58167</td>\n",
       "      <td>Casa</td>\n",
       "      <td>Venta</td>\n",
       "      <td>4602000.0</td>\n",
       "    </tr>\n",
       "  </tbody>\n",
       "</table>\n",
       "</div>"
      ],
      "text/plain": [
       "      PROPERTIE_ID      STATE            CITY  ...  TYPE PURPOSE      PRICE\n",
       "7072    9960694218  DF / CDMX  Miguel Hidalgo  ...  Casa   Venta  4602000.0\n",
       "\n",
       "[1 rows x 10 columns]"
      ]
     },
     "execution_count": 117,
     "metadata": {},
     "output_type": "execute_result"
    }
   ],
   "source": [
    "df_properties.sample()"
   ]
  },
  {
   "cell_type": "code",
   "execution_count": 121,
   "metadata": {},
   "outputs": [
    {
     "name": "stdout",
     "output_type": "stream",
     "text": [
      "<class 'pandas.core.frame.DataFrame'>\n",
      "RangeIndex: 30000 entries, 0 to 29999\n",
      "Data columns (total 10 columns):\n",
      " #   Column        Non-Null Count  Dtype \n",
      "---  ------        --------------  ----- \n",
      " 0   PROPERTIE_ID  30000 non-null  int64 \n",
      " 1   STATE         30000 non-null  object\n",
      " 2   CITY          30000 non-null  object\n",
      " 3   COLONY        30000 non-null  object\n",
      " 4   STREET        30000 non-null  object\n",
      " 5   EXTERNAL_NUM  30000 non-null  object\n",
      " 6   USER_ID       30000 non-null  int64 \n",
      " 7   TYPE          30000 non-null  object\n",
      " 8   PURPOSE       30000 non-null  object\n",
      " 9   PRICE         30000 non-null  int64 \n",
      "dtypes: int64(3), object(7)\n",
      "memory usage: 2.3+ MB\n"
     ]
    }
   ],
   "source": [
    "df_properties.info()"
   ]
  },
  {
   "cell_type": "code",
   "execution_count": 119,
   "metadata": {},
   "outputs": [],
   "source": [
    "df_properties['STREET'].fillna('<--->', inplace=True)\n",
    "df_properties['EXTERNAL_NUM'].fillna('<--->', inplace=True)"
   ]
  },
  {
   "cell_type": "code",
   "execution_count": 120,
   "metadata": {},
   "outputs": [],
   "source": [
    "df_properties['USER_ID'] = df_properties['USER_ID'].apply(lambda x: int(x))\n",
    "df_properties['PRICE'] = df_properties['PRICE'].apply(lambda x: int(x))"
   ]
  }
 ],
 "metadata": {
  "kernelspec": {
   "display_name": "venv",
   "language": "python",
   "name": "python3"
  },
  "language_info": {
   "codemirror_mode": {
    "name": "ipython",
    "version": 3
   },
   "file_extension": ".py",
   "mimetype": "text/x-python",
   "name": "python",
   "nbconvert_exporter": "python",
   "pygments_lexer": "ipython3",
   "version": "3.12.2"
  },
  "orig_nbformat": 4
 },
 "nbformat": 4,
 "nbformat_minor": 2
}
