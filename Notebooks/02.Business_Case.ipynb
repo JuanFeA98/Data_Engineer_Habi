{
 "cells": [
  {
   "cell_type": "markdown",
   "metadata": {},
   "source": [
    "## **Librerías**"
   ]
  },
  {
   "cell_type": "code",
   "execution_count": 1,
   "metadata": {},
   "outputs": [],
   "source": [
    "import pandas as pd\n",
    "import numpy as np"
   ]
  },
  {
   "cell_type": "code",
   "execution_count": 2,
   "metadata": {},
   "outputs": [],
   "source": [
    "pd.options.display.max_columns = False"
   ]
  },
  {
   "cell_type": "code",
   "execution_count": 84,
   "metadata": {},
   "outputs": [],
   "source": [
    "import matplotlib.pyplot as plt\n",
    "import seaborn as sns"
   ]
  },
  {
   "cell_type": "code",
   "execution_count": 3,
   "metadata": {},
   "outputs": [],
   "source": [
    "import sys\n",
    "sys.path.append('./')\n",
    "sys.path.append('../')"
   ]
  },
  {
   "cell_type": "code",
   "execution_count": 4,
   "metadata": {},
   "outputs": [],
   "source": [
    "import Utils.consultas_mysql as cst"
   ]
  },
  {
   "cell_type": "markdown",
   "metadata": {},
   "source": [
    "## **Business Case**"
   ]
  },
  {
   "cell_type": "markdown",
   "metadata": {},
   "source": [
    "### **1.\t¿Cuántos usuarios hay registrados?**"
   ]
  },
  {
   "cell_type": "code",
   "execution_count": 10,
   "metadata": {},
   "outputs": [],
   "source": [
    "query = '''\n",
    "SELECT \n",
    "    COUNT(*) AS TOTAL,\n",
    "    COUNT(DISTINCT USER_ID) AS USER_IDS,\n",
    "    COUNT(DISTINCT USER_MAIL) AS USER_MAILS,\n",
    "    COUNT(DISTINCT USER_PHONE) AS USER_PHONES\n",
    "FROM TBL_DIM_USERS\n",
    "'''\n",
    "\n",
    "df_distincts = cst.get_data(query)"
   ]
  },
  {
   "cell_type": "code",
   "execution_count": 11,
   "metadata": {},
   "outputs": [
    {
     "data": {
      "text/html": [
       "<div>\n",
       "<style scoped>\n",
       "    .dataframe tbody tr th:only-of-type {\n",
       "        vertical-align: middle;\n",
       "    }\n",
       "\n",
       "    .dataframe tbody tr th {\n",
       "        vertical-align: top;\n",
       "    }\n",
       "\n",
       "    .dataframe thead th {\n",
       "        text-align: right;\n",
       "    }\n",
       "</style>\n",
       "<table border=\"1\" class=\"dataframe\">\n",
       "  <thead>\n",
       "    <tr style=\"text-align: right;\">\n",
       "      <th></th>\n",
       "      <th>TOTAL</th>\n",
       "      <th>USER_IDS</th>\n",
       "      <th>USER_MAILS</th>\n",
       "      <th>USER_PHONES</th>\n",
       "    </tr>\n",
       "  </thead>\n",
       "  <tbody>\n",
       "    <tr>\n",
       "      <th>0</th>\n",
       "      <td>30000</td>\n",
       "      <td>25904</td>\n",
       "      <td>9481</td>\n",
       "      <td>29980</td>\n",
       "    </tr>\n",
       "  </tbody>\n",
       "</table>\n",
       "</div>"
      ],
      "text/plain": [
       "   TOTAL  USER_IDS  USER_MAILS  USER_PHONES\n",
       "0  30000     25904        9481        29980"
      ]
     },
     "execution_count": 11,
     "metadata": {},
     "output_type": "execute_result"
    }
   ],
   "source": [
    "df_distincts"
   ]
  },
  {
   "cell_type": "markdown",
   "metadata": {},
   "source": [
    "En la tabla hay un total de **30.000 usuarios**, sin embargo El número total de usuarios registrados en la base de datos es de 30,000. Sin embargo, al analizar los campos clave, encontramos las siguientes diferencias:\n",
    "\n",
    "- Usuarios únicos por ID **(USER_ID/CODE)**: Existen **25,904** identificadores de usuario distintos.\n",
    "- Usuarios únicos por correo electrónico **(USER_MAIL)**: Se registraron 9,481 correos electrónicos únicos.\n",
    "- Usuarios únicos por número de teléfono **(USER_PHONE)**: Hay **29,980** números de teléfono únicos registrados.\n",
    "\n",
    "Estos resultados sugieren que hay registros repetidos o múltiples formas de identificación asociadas a un mismo usuario en términos de correo electrónico y teléfono. Esto puede indicar usuarios que tienen múltiples direcciones de correo o números de teléfono asociados en el sistema."
   ]
  },
  {
   "cell_type": "code",
   "execution_count": 12,
   "metadata": {},
   "outputs": [],
   "source": [
    "query = '''\n",
    "SELECT \n",
    "    USER_ID,\n",
    "    USER_MAIL,\n",
    "    USER_PHONE\n",
    "FROM TBL_DIM_USERS\n",
    "GROUP BY \n",
    "    USER_ID,\n",
    "    USER_MAIL,\n",
    "    USER_PHONE\n",
    "'''\n",
    "\n",
    "df_group_users = cst.get_data(query)"
   ]
  },
  {
   "cell_type": "code",
   "execution_count": null,
   "metadata": {},
   "outputs": [
    {
     "data": {
      "text/html": [
       "<div>\n",
       "<style scoped>\n",
       "    .dataframe tbody tr th:only-of-type {\n",
       "        vertical-align: middle;\n",
       "    }\n",
       "\n",
       "    .dataframe tbody tr th {\n",
       "        vertical-align: top;\n",
       "    }\n",
       "\n",
       "    .dataframe thead th {\n",
       "        text-align: right;\n",
       "    }\n",
       "</style>\n",
       "<table border=\"1\" class=\"dataframe\">\n",
       "  <thead>\n",
       "    <tr style=\"text-align: right;\">\n",
       "      <th></th>\n",
       "      <th>USER_ID</th>\n",
       "      <th>USER_MAIL</th>\n",
       "      <th>USER_PHONE</th>\n",
       "    </tr>\n",
       "  </thead>\n",
       "  <tbody>\n",
       "    <tr>\n",
       "      <th>0</th>\n",
       "      <td>98631</td>\n",
       "      <td>user-9863@mail.com</td>\n",
       "      <td>7462446</td>\n",
       "    </tr>\n",
       "    <tr>\n",
       "      <th>1</th>\n",
       "      <td>94525</td>\n",
       "      <td>user-9452@mail.com</td>\n",
       "      <td>39163015</td>\n",
       "    </tr>\n",
       "    <tr>\n",
       "      <th>2</th>\n",
       "      <td>76735</td>\n",
       "      <td>user-7673@mail.com</td>\n",
       "      <td>73427742</td>\n",
       "    </tr>\n",
       "    <tr>\n",
       "      <th>3</th>\n",
       "      <td>100</td>\n",
       "      <td>user-10@mail.com</td>\n",
       "      <td>49649666</td>\n",
       "    </tr>\n",
       "    <tr>\n",
       "      <th>4</th>\n",
       "      <td>70297</td>\n",
       "      <td>user-7029@mail.com</td>\n",
       "      <td>27965110</td>\n",
       "    </tr>\n",
       "    <tr>\n",
       "      <th>...</th>\n",
       "      <td>...</td>\n",
       "      <td>...</td>\n",
       "      <td>...</td>\n",
       "    </tr>\n",
       "    <tr>\n",
       "      <th>29995</th>\n",
       "      <td>38302</td>\n",
       "      <td>user-3830@mail.com</td>\n",
       "      <td>39561210</td>\n",
       "    </tr>\n",
       "    <tr>\n",
       "      <th>29996</th>\n",
       "      <td>5433</td>\n",
       "      <td>user-543@mail.com</td>\n",
       "      <td>11264348</td>\n",
       "    </tr>\n",
       "    <tr>\n",
       "      <th>29997</th>\n",
       "      <td>12259</td>\n",
       "      <td>user-1225@mail.com</td>\n",
       "      <td>37638115</td>\n",
       "    </tr>\n",
       "    <tr>\n",
       "      <th>29998</th>\n",
       "      <td>44998</td>\n",
       "      <td>user-4499@mail.com</td>\n",
       "      <td>54397533</td>\n",
       "    </tr>\n",
       "    <tr>\n",
       "      <th>29999</th>\n",
       "      <td>88212</td>\n",
       "      <td>user-8821@mail.com</td>\n",
       "      <td>59073325</td>\n",
       "    </tr>\n",
       "  </tbody>\n",
       "</table>\n",
       "<p>30000 rows × 3 columns</p>\n",
       "</div>"
      ],
      "text/plain": [
       "       USER_ID           USER_MAIL  USER_PHONE\n",
       "0        98631  user-9863@mail.com     7462446\n",
       "1        94525  user-9452@mail.com    39163015\n",
       "2        76735  user-7673@mail.com    73427742\n",
       "3          100    user-10@mail.com    49649666\n",
       "4        70297  user-7029@mail.com    27965110\n",
       "...        ...                 ...         ...\n",
       "29995    38302  user-3830@mail.com    39561210\n",
       "29996     5433   user-543@mail.com    11264348\n",
       "29997    12259  user-1225@mail.com    37638115\n",
       "29998    44998  user-4499@mail.com    54397533\n",
       "29999    88212  user-8821@mail.com    59073325\n",
       "\n",
       "[30000 rows x 3 columns]"
      ]
     },
     "execution_count": 13,
     "metadata": {},
     "output_type": "execute_result"
    }
   ],
   "source": [
    "df_group_users"
   ]
  },
  {
   "cell_type": "markdown",
   "metadata": {},
   "source": [
    "### **2.\t¿Cuántas propiedades hay por cada usuario?**"
   ]
  },
  {
   "cell_type": "code",
   "execution_count": 35,
   "metadata": {},
   "outputs": [],
   "source": [
    "query = '''\n",
    "    WITH\n",
    "        BASE AS(\n",
    "            SELECT \n",
    "                USER_ID,\n",
    "                COUNT(*) AS CANT_PROPERTIES\n",
    "            FROM TBL_FCT_PROPERTIES\n",
    "            GROUP BY USER_ID\n",
    "        )\n",
    "\n",
    "    SELECT \n",
    "        CANT_PROPERTIES,\n",
    "        COUNT(*) AS USERS\n",
    "    FROM BASE\n",
    "    GROUP BY CANT_PROPERTIES\n",
    "    ORDER BY 2 DESC\n",
    "'''\n",
    "\n",
    "df_users_properties = cst.get_data(query)"
   ]
  },
  {
   "cell_type": "code",
   "execution_count": 45,
   "metadata": {},
   "outputs": [
    {
     "data": {
      "text/html": [
       "<div>\n",
       "<style scoped>\n",
       "    .dataframe tbody tr th:only-of-type {\n",
       "        vertical-align: middle;\n",
       "    }\n",
       "\n",
       "    .dataframe tbody tr th {\n",
       "        vertical-align: top;\n",
       "    }\n",
       "\n",
       "    .dataframe thead th {\n",
       "        text-align: right;\n",
       "    }\n",
       "</style>\n",
       "<table border=\"1\" class=\"dataframe\">\n",
       "  <thead>\n",
       "    <tr style=\"text-align: right;\">\n",
       "      <th></th>\n",
       "      <th>CANT_PROPERTIES</th>\n",
       "      <th>USERS</th>\n",
       "      <th>%</th>\n",
       "    </tr>\n",
       "  </thead>\n",
       "  <tbody>\n",
       "    <tr>\n",
       "      <th>0</th>\n",
       "      <td>1</td>\n",
       "      <td>22175</td>\n",
       "      <td>85.604540</td>\n",
       "    </tr>\n",
       "    <tr>\n",
       "      <th>1</th>\n",
       "      <td>2</td>\n",
       "      <td>3383</td>\n",
       "      <td>13.059759</td>\n",
       "    </tr>\n",
       "    <tr>\n",
       "      <th>2</th>\n",
       "      <td>3</td>\n",
       "      <td>327</td>\n",
       "      <td>1.262353</td>\n",
       "    </tr>\n",
       "    <tr>\n",
       "      <th>3</th>\n",
       "      <td>4</td>\n",
       "      <td>17</td>\n",
       "      <td>0.065627</td>\n",
       "    </tr>\n",
       "    <tr>\n",
       "      <th>4</th>\n",
       "      <td>5</td>\n",
       "      <td>2</td>\n",
       "      <td>0.007721</td>\n",
       "    </tr>\n",
       "  </tbody>\n",
       "</table>\n",
       "</div>"
      ],
      "text/plain": [
       "   CANT_PROPERTIES  USERS          %\n",
       "0                1  22175  85.604540\n",
       "1                2   3383  13.059759\n",
       "2                3    327   1.262353\n",
       "3                4     17   0.065627\n",
       "4                5      2   0.007721"
      ]
     },
     "execution_count": 45,
     "metadata": {},
     "output_type": "execute_result"
    }
   ],
   "source": [
    "df_users_properties['%'] = df_users_properties['USERS'].apply(\n",
    "    lambda x: \n",
    "        x/df_users_properties['USERS'].sum()*100\n",
    "    )\n",
    "df_users_properties"
   ]
  },
  {
   "cell_type": "markdown",
   "metadata": {},
   "source": [
    "En la base de datos, la distribución de propiedades por usuario es la siguiente:\n",
    "\n",
    "- 22,175 usuarios tienen 1 propiedad (85.6%).\n",
    "- 3,383 usuarios tienen 2 propiedades (13%).\n",
    "- 327 usuarios tienen 3 propiedades (1.2%).\n",
    "- 17 usuarios tienen 4 propiedades (0.06%).\n",
    "- 2 usuarios tienen 5 propiedades (0.007%).\n",
    "\n",
    "Esto refleja cómo están distribuidas las propiedades entre los usuarios en la plataforma."
   ]
  },
  {
   "cell_type": "markdown",
   "metadata": {},
   "source": [
    "### **3.\t¿Cuántas casas y cuántos departamentos hay por estado?**"
   ]
  },
  {
   "cell_type": "code",
   "execution_count": null,
   "metadata": {},
   "outputs": [],
   "source": [
    "query = '''\n",
    "    SELECT \n",
    "        STATE,\n",
    "        TYPE,\n",
    "        COUNT(*) AS TOTAL_PROPERTIES\n",
    "    FROM TBL_FCT_PROPERTIES\n",
    "    GROUP BY \n",
    "        STATE,\n",
    "        TYPE\n",
    "    ORDER BY 3 DESC\n",
    "'''\n",
    "\n",
    "df_state_type = cst.get_data(query)"
   ]
  },
  {
   "cell_type": "code",
   "execution_count": 98,
   "metadata": {},
   "outputs": [],
   "source": [
    "# Identificamos los estados con la mayor cantidad de propiedades\n",
    "df_states = df_state_type.groupby('STATE')[['TOTAL_PROPERTIES']].sum().reset_index().sort_values(\n",
    "    'TOTAL_PROPERTIES', \n",
    "    ascending=False\n",
    ")\n",
    "\n",
    "df_top_state = df_states.head(5).copy().reset_index(drop=True,)"
   ]
  },
  {
   "cell_type": "code",
   "execution_count": 99,
   "metadata": {},
   "outputs": [],
   "source": [
    "df_top_state_type = pd.merge(\n",
    "    df_top_state,\n",
    "    df_state_type,\n",
    "    how='left',\n",
    "    left_on='STATE',\n",
    "    right_on='STATE'\n",
    ")"
   ]
  },
  {
   "cell_type": "code",
   "execution_count": 111,
   "metadata": {},
   "outputs": [],
   "source": [
    "df_top_state_type.rename(columns={\n",
    "    'TOTAL_PROPERTIES_x': 'Total_By_State',\n",
    "    'TOTAL_PROPERTIES_y': 'Total_By_Type'\n",
    "}, inplace=True)"
   ]
  },
  {
   "cell_type": "code",
   "execution_count": 129,
   "metadata": {},
   "outputs": [
    {
     "data": {
      "text/html": [
       "<div>\n",
       "<style scoped>\n",
       "    .dataframe tbody tr th:only-of-type {\n",
       "        vertical-align: middle;\n",
       "    }\n",
       "\n",
       "    .dataframe tbody tr th {\n",
       "        vertical-align: top;\n",
       "    }\n",
       "\n",
       "    .dataframe thead th {\n",
       "        text-align: right;\n",
       "    }\n",
       "</style>\n",
       "<table border=\"1\" class=\"dataframe\">\n",
       "  <thead>\n",
       "    <tr style=\"text-align: right;\">\n",
       "      <th></th>\n",
       "      <th>STATE</th>\n",
       "      <th>Total_By_State</th>\n",
       "      <th>TYPE</th>\n",
       "      <th>Total_By_Type</th>\n",
       "    </tr>\n",
       "  </thead>\n",
       "  <tbody>\n",
       "    <tr>\n",
       "      <th>0</th>\n",
       "      <td>DF / CDMX</td>\n",
       "      <td>6441</td>\n",
       "      <td>Casa</td>\n",
       "      <td>5043</td>\n",
       "    </tr>\n",
       "    <tr>\n",
       "      <th>1</th>\n",
       "      <td>DF / CDMX</td>\n",
       "      <td>6441</td>\n",
       "      <td>Departamento</td>\n",
       "      <td>1398</td>\n",
       "    </tr>\n",
       "    <tr>\n",
       "      <th>2</th>\n",
       "      <td>Yucatán</td>\n",
       "      <td>3262</td>\n",
       "      <td>Departamento</td>\n",
       "      <td>2106</td>\n",
       "    </tr>\n",
       "    <tr>\n",
       "      <th>3</th>\n",
       "      <td>Yucatán</td>\n",
       "      <td>3262</td>\n",
       "      <td>Casa</td>\n",
       "      <td>1156</td>\n",
       "    </tr>\n",
       "    <tr>\n",
       "      <th>4</th>\n",
       "      <td>México</td>\n",
       "      <td>2771</td>\n",
       "      <td>Departamento</td>\n",
       "      <td>1853</td>\n",
       "    </tr>\n",
       "    <tr>\n",
       "      <th>5</th>\n",
       "      <td>México</td>\n",
       "      <td>2771</td>\n",
       "      <td>Casa</td>\n",
       "      <td>918</td>\n",
       "    </tr>\n",
       "    <tr>\n",
       "      <th>6</th>\n",
       "      <td>Querétaro</td>\n",
       "      <td>2590</td>\n",
       "      <td>Departamento</td>\n",
       "      <td>1728</td>\n",
       "    </tr>\n",
       "    <tr>\n",
       "      <th>7</th>\n",
       "      <td>Querétaro</td>\n",
       "      <td>2590</td>\n",
       "      <td>Casa</td>\n",
       "      <td>862</td>\n",
       "    </tr>\n",
       "    <tr>\n",
       "      <th>8</th>\n",
       "      <td>Quintana Roo</td>\n",
       "      <td>2586</td>\n",
       "      <td>Casa</td>\n",
       "      <td>2049</td>\n",
       "    </tr>\n",
       "    <tr>\n",
       "      <th>9</th>\n",
       "      <td>Quintana Roo</td>\n",
       "      <td>2586</td>\n",
       "      <td>Departamento</td>\n",
       "      <td>537</td>\n",
       "    </tr>\n",
       "  </tbody>\n",
       "</table>\n",
       "</div>"
      ],
      "text/plain": [
       "          STATE  Total_By_State          TYPE  Total_By_Type\n",
       "0     DF / CDMX            6441          Casa           5043\n",
       "1     DF / CDMX            6441  Departamento           1398\n",
       "2       Yucatán            3262  Departamento           2106\n",
       "3       Yucatán            3262          Casa           1156\n",
       "4        México            2771  Departamento           1853\n",
       "5        México            2771          Casa            918\n",
       "6     Querétaro            2590  Departamento           1728\n",
       "7     Querétaro            2590          Casa            862\n",
       "8  Quintana Roo            2586          Casa           2049\n",
       "9  Quintana Roo            2586  Departamento            537"
      ]
     },
     "execution_count": 129,
     "metadata": {},
     "output_type": "execute_result"
    }
   ],
   "source": [
    "df_top_state_type.drop('%By_State', axis=1)"
   ]
  },
  {
   "cell_type": "code",
   "execution_count": null,
   "metadata": {},
   "outputs": [
    {
     "data": {
      "image/png": "[encoded data removed]",
      "text/plain": [
       "<Figure size 640x480 with 1 Axes>"
      ]
     },
     "metadata": {},
     "output_type": "display_data"
    }
   ],
   "source": [
    "ax = sns.barplot(\n",
    "        data=df_top_state_type, \n",
    "        x=\"STATE\", \n",
    "        y=\"Total_By_Type\", \n",
    "        hue=\"TYPE\", \n",
    "        palette=\"mako\"\n",
    ")\n",
    "\n",
    "plt.xticks(rotation=45, ha='right')\n",
    "\n",
    "for p in ax.patches:\n",
    "    ax.annotate(f'{p.get_height():,.0f}', \n",
    "                (p.get_x() + p.get_width() / 2., p.get_height()), \n",
    "                ha='center', va='center', \n",
    "                fontsize=10, color='black', \n",
    "                xytext=(0, 5), textcoords='offset points')\n",
    "\n",
    "\n",
    "plt.title('Distribución de propiedades por tipo de usuario')\n",
    "plt.xlabel('Tipo de propiedad')\n",
    "plt.ylabel('Cantidad de usuarios')\n",
    "\n",
    "plt.show()"
   ]
  },
  {
   "cell_type": "markdown",
   "metadata": {},
   "source": [
    "En el gráfico se evidencia la cantidad de casas y departamentos por estado, considerando solo el top 5 de estados por simplicidad del ejercicio:\n",
    "\n",
    "- **DF / CDMX** tiene un total de 6,441 inmuebles, de los cuales 5,043 son casas y 1,398 son departamentos.\n",
    "- **Yucatán** tiene un total de 3,262 inmuebles, con 1,156 casas y 2,106 departamentos.\n",
    "- **México** cuenta con 2,771 inmuebles, distribuidos en 918 casas y 1,853 departamentos.\n",
    "- **Querétaro** tiene un total de 2,590 inmuebles, con 862 casas y 1,728 departamentos.\n",
    "- **Quintana Roo** tiene 2,586 inmuebles, de los cuales 2,049 son casas y 537 son departamentos.\n"
   ]
  },
  {
   "cell_type": "markdown",
   "metadata": {},
   "source": [
    "### **4.\t¿Tenemos códigos duplicados? ¿Por qué?**\n"
   ]
  },
  {
   "cell_type": "code",
   "execution_count": 115,
   "metadata": {},
   "outputs": [],
   "source": [
    "query = '''\n",
    "    SELECT \n",
    "        COUNT(USER_ID) AS RECORDS,\n",
    "        COUNT(DISTINCT USER_ID) AS DISTINCT_RECORDS\n",
    "    FROM TBL_FCT_PROPERTIES\n",
    "'''\n",
    "\n",
    "df_records = cst.get_data(query)"
   ]
  },
  {
   "cell_type": "code",
   "execution_count": 116,
   "metadata": {},
   "outputs": [
    {
     "data": {
      "text/html": [
       "<div>\n",
       "<style scoped>\n",
       "    .dataframe tbody tr th:only-of-type {\n",
       "        vertical-align: middle;\n",
       "    }\n",
       "\n",
       "    .dataframe tbody tr th {\n",
       "        vertical-align: top;\n",
       "    }\n",
       "\n",
       "    .dataframe thead th {\n",
       "        text-align: right;\n",
       "    }\n",
       "</style>\n",
       "<table border=\"1\" class=\"dataframe\">\n",
       "  <thead>\n",
       "    <tr style=\"text-align: right;\">\n",
       "      <th></th>\n",
       "      <th>RECORDS</th>\n",
       "      <th>DISTINCT_RECORDS</th>\n",
       "    </tr>\n",
       "  </thead>\n",
       "  <tbody>\n",
       "    <tr>\n",
       "      <th>0</th>\n",
       "      <td>30000</td>\n",
       "      <td>25904</td>\n",
       "    </tr>\n",
       "  </tbody>\n",
       "</table>\n",
       "</div>"
      ],
      "text/plain": [
       "   RECORDS  DISTINCT_RECORDS\n",
       "0    30000             25904"
      ]
     },
     "execution_count": 116,
     "metadata": {},
     "output_type": "execute_result"
    }
   ],
   "source": [
    "df_records"
   ]
  },
  {
   "cell_type": "code",
   "execution_count": null,
   "metadata": {},
   "outputs": [],
   "source": [
    "query = '''\n",
    "SELECT *\n",
    "FROM TBL_DIM_USERS\n",
    "'''\n",
    "\n",
    "df_users = cst.get_data(query)"
   ]
  },
  {
   "cell_type": "code",
   "execution_count": 122,
   "metadata": {},
   "outputs": [],
   "source": [
    "df_code_users = df_users.groupby('USER_ID').count().reset_index()"
   ]
  },
  {
   "cell_type": "code",
   "execution_count": 125,
   "metadata": {},
   "outputs": [
    {
     "data": {
      "text/html": [
       "<div>\n",
       "<style scoped>\n",
       "    .dataframe tbody tr th:only-of-type {\n",
       "        vertical-align: middle;\n",
       "    }\n",
       "\n",
       "    .dataframe tbody tr th {\n",
       "        vertical-align: top;\n",
       "    }\n",
       "\n",
       "    .dataframe thead th {\n",
       "        text-align: right;\n",
       "    }\n",
       "</style>\n",
       "<table border=\"1\" class=\"dataframe\">\n",
       "  <thead>\n",
       "    <tr style=\"text-align: right;\">\n",
       "      <th></th>\n",
       "      <th>USER_ID</th>\n",
       "      <th>USER_MAIL</th>\n",
       "      <th>USER_PHONE</th>\n",
       "    </tr>\n",
       "  </thead>\n",
       "  <tbody>\n",
       "    <tr>\n",
       "      <th>2639</th>\n",
       "      <td>10202</td>\n",
       "      <td>5</td>\n",
       "      <td>5</td>\n",
       "    </tr>\n",
       "    <tr>\n",
       "      <th>18076</th>\n",
       "      <td>70113</td>\n",
       "      <td>5</td>\n",
       "      <td>5</td>\n",
       "    </tr>\n",
       "    <tr>\n",
       "      <th>1039</th>\n",
       "      <td>4019</td>\n",
       "      <td>4</td>\n",
       "      <td>4</td>\n",
       "    </tr>\n",
       "    <tr>\n",
       "      <th>6127</th>\n",
       "      <td>23573</td>\n",
       "      <td>4</td>\n",
       "      <td>4</td>\n",
       "    </tr>\n",
       "    <tr>\n",
       "      <th>10008</th>\n",
       "      <td>38421</td>\n",
       "      <td>4</td>\n",
       "      <td>4</td>\n",
       "    </tr>\n",
       "    <tr>\n",
       "      <th>...</th>\n",
       "      <td>...</td>\n",
       "      <td>...</td>\n",
       "      <td>...</td>\n",
       "    </tr>\n",
       "    <tr>\n",
       "      <th>43</th>\n",
       "      <td>215</td>\n",
       "      <td>1</td>\n",
       "      <td>1</td>\n",
       "    </tr>\n",
       "    <tr>\n",
       "      <th>2198</th>\n",
       "      <td>8489</td>\n",
       "      <td>1</td>\n",
       "      <td>1</td>\n",
       "    </tr>\n",
       "    <tr>\n",
       "      <th>45</th>\n",
       "      <td>218</td>\n",
       "      <td>1</td>\n",
       "      <td>1</td>\n",
       "    </tr>\n",
       "    <tr>\n",
       "      <th>46</th>\n",
       "      <td>219</td>\n",
       "      <td>1</td>\n",
       "      <td>1</td>\n",
       "    </tr>\n",
       "    <tr>\n",
       "      <th>15</th>\n",
       "      <td>83</td>\n",
       "      <td>1</td>\n",
       "      <td>1</td>\n",
       "    </tr>\n",
       "  </tbody>\n",
       "</table>\n",
       "<p>25904 rows × 3 columns</p>\n",
       "</div>"
      ],
      "text/plain": [
       "       USER_ID  USER_MAIL  USER_PHONE\n",
       "2639     10202          5           5\n",
       "18076    70113          5           5\n",
       "1039      4019          4           4\n",
       "6127     23573          4           4\n",
       "10008    38421          4           4\n",
       "...        ...        ...         ...\n",
       "43         215          1           1\n",
       "2198      8489          1           1\n",
       "45         218          1           1\n",
       "46         219          1           1\n",
       "15          83          1           1\n",
       "\n",
       "[25904 rows x 3 columns]"
      ]
     },
     "execution_count": 125,
     "metadata": {},
     "output_type": "execute_result"
    }
   ],
   "source": [
    "df_code_users.sort_values('USER_PHONE', ascending=False)"
   ]
  },
  {
   "cell_type": "code",
   "execution_count": 126,
   "metadata": {},
   "outputs": [
    {
     "data": {
      "text/html": [
       "<div>\n",
       "<style scoped>\n",
       "    .dataframe tbody tr th:only-of-type {\n",
       "        vertical-align: middle;\n",
       "    }\n",
       "\n",
       "    .dataframe tbody tr th {\n",
       "        vertical-align: top;\n",
       "    }\n",
       "\n",
       "    .dataframe thead th {\n",
       "        text-align: right;\n",
       "    }\n",
       "</style>\n",
       "<table border=\"1\" class=\"dataframe\">\n",
       "  <thead>\n",
       "    <tr style=\"text-align: right;\">\n",
       "      <th></th>\n",
       "      <th>USER_ID</th>\n",
       "      <th>USER_MAIL</th>\n",
       "      <th>USER_PHONE</th>\n",
       "    </tr>\n",
       "  </thead>\n",
       "  <tbody>\n",
       "    <tr>\n",
       "      <th>3135</th>\n",
       "      <td>10202</td>\n",
       "      <td>user-1020@mail.com</td>\n",
       "      <td>98257517</td>\n",
       "    </tr>\n",
       "    <tr>\n",
       "      <th>8654</th>\n",
       "      <td>10202</td>\n",
       "      <td>user-1020@mail.com</td>\n",
       "      <td>7898338</td>\n",
       "    </tr>\n",
       "    <tr>\n",
       "      <th>14119</th>\n",
       "      <td>10202</td>\n",
       "      <td>user-1020@mail.com</td>\n",
       "      <td>20054586</td>\n",
       "    </tr>\n",
       "    <tr>\n",
       "      <th>22889</th>\n",
       "      <td>10202</td>\n",
       "      <td>user-1020@mail.com</td>\n",
       "      <td>30349147</td>\n",
       "    </tr>\n",
       "    <tr>\n",
       "      <th>27174</th>\n",
       "      <td>10202</td>\n",
       "      <td>user-1020@mail.com</td>\n",
       "      <td>43360569</td>\n",
       "    </tr>\n",
       "  </tbody>\n",
       "</table>\n",
       "</div>"
      ],
      "text/plain": [
       "       USER_ID           USER_MAIL  USER_PHONE\n",
       "3135     10202  user-1020@mail.com    98257517\n",
       "8654     10202  user-1020@mail.com     7898338\n",
       "14119    10202  user-1020@mail.com    20054586\n",
       "22889    10202  user-1020@mail.com    30349147\n",
       "27174    10202  user-1020@mail.com    43360569"
      ]
     },
     "execution_count": 126,
     "metadata": {},
     "output_type": "execute_result"
    }
   ],
   "source": [
    "df_users.query('USER_ID == 10202')"
   ]
  },
  {
   "cell_type": "code",
   "execution_count": 127,
   "metadata": {},
   "outputs": [
    {
     "data": {
      "text/html": [
       "<div>\n",
       "<style scoped>\n",
       "    .dataframe tbody tr th:only-of-type {\n",
       "        vertical-align: middle;\n",
       "    }\n",
       "\n",
       "    .dataframe tbody tr th {\n",
       "        vertical-align: top;\n",
       "    }\n",
       "\n",
       "    .dataframe thead th {\n",
       "        text-align: right;\n",
       "    }\n",
       "</style>\n",
       "<table border=\"1\" class=\"dataframe\">\n",
       "  <thead>\n",
       "    <tr style=\"text-align: right;\">\n",
       "      <th></th>\n",
       "      <th>USER_ID</th>\n",
       "      <th>USER_MAIL</th>\n",
       "      <th>USER_PHONE</th>\n",
       "    </tr>\n",
       "  </thead>\n",
       "  <tbody>\n",
       "    <tr>\n",
       "      <th>5162</th>\n",
       "      <td>70113</td>\n",
       "      <td>user-7011@mail.com</td>\n",
       "      <td>84883146</td>\n",
       "    </tr>\n",
       "    <tr>\n",
       "      <th>9798</th>\n",
       "      <td>70113</td>\n",
       "      <td>user-7011@mail.com</td>\n",
       "      <td>92052339</td>\n",
       "    </tr>\n",
       "    <tr>\n",
       "      <th>11167</th>\n",
       "      <td>70113</td>\n",
       "      <td>user-7011@mail.com</td>\n",
       "      <td>23568485</td>\n",
       "    </tr>\n",
       "    <tr>\n",
       "      <th>16855</th>\n",
       "      <td>70113</td>\n",
       "      <td>user-7011@mail.com</td>\n",
       "      <td>28288272</td>\n",
       "    </tr>\n",
       "    <tr>\n",
       "      <th>18531</th>\n",
       "      <td>70113</td>\n",
       "      <td>user-7011@mail.com</td>\n",
       "      <td>75427122</td>\n",
       "    </tr>\n",
       "  </tbody>\n",
       "</table>\n",
       "</div>"
      ],
      "text/plain": [
       "       USER_ID           USER_MAIL  USER_PHONE\n",
       "5162     70113  user-7011@mail.com    84883146\n",
       "9798     70113  user-7011@mail.com    92052339\n",
       "11167    70113  user-7011@mail.com    23568485\n",
       "16855    70113  user-7011@mail.com    28288272\n",
       "18531    70113  user-7011@mail.com    75427122"
      ]
     },
     "execution_count": 127,
     "metadata": {},
     "output_type": "execute_result"
    }
   ],
   "source": [
    "df_users.query('USER_ID == 70113')"
   ]
  },
  {
   "cell_type": "markdown",
   "metadata": {},
   "source": [
    "Se han detectado valores repetidos en los códigos dentro de la base de datos. Durante la validación, hemos encontrado que esto ocurre cuando los usuarios tienen más de un correo electrónico, más de un número de teléfono de contacto, o incluso diferentes propiedades. La plataforma registra esta información creando un nuevo registro, pero conserva el mismo código."
   ]
  }
 ],
 "metadata": {
  "kernelspec": {
   "display_name": "venv",
   "language": "python",
   "name": "python3"
  },
  "language_info": {
   "codemirror_mode": {
    "name": "ipython",
    "version": 3
   },
   "file_extension": ".py",
   "mimetype": "text/x-python",
   "name": "python",
   "nbconvert_exporter": "python",
   "pygments_lexer": "ipython3",
   "version": "3.12.2"
  }
 },
 "nbformat": 4,
 "nbformat_minor": 2
}
